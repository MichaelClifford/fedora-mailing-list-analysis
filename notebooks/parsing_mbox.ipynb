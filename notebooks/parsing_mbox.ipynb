{
 "cells": [
  {
   "cell_type": "code",
   "execution_count": 11,
   "metadata": {},
   "outputs": [],
   "source": [
    "import pandas as pd\n",
    "import numpy as np \n",
    "from datetime import datetime\n",
    "import mailbox\n",
    "import re"
   ]
  },
  {
   "cell_type": "code",
   "execution_count": 12,
   "metadata": {},
   "outputs": [],
   "source": [
    "#get mbox data to work with. Update later with retrieval from buckets when it is discovered how to get all emails\n",
    "#from the archieve\n",
    "\n",
    "msgs = mailbox.mbox(\"/opt/app-root/src/devel_2003_2008.mbox\")"
   ]
  },
  {
   "cell_type": "code",
   "execution_count": 13,
   "metadata": {},
   "outputs": [],
   "source": [
    "#how to get text from a message in the mbox \n",
    "def get_text(msg):\n",
    "    while msg.is_multipart():\n",
    "        msg = msg.get_payload()[0]\n",
    "    return msg.get_payload()"
   ]
  },
  {
   "cell_type": "code",
   "execution_count": 1,
   "metadata": {},
   "outputs": [],
   "source": [
    "#strip thread text and dates in body text\n",
    "def strip_thread(text):\n",
    "    text = text.replace(\"\\r\", \"\")\n",
    "    lines = text.split(\"\\n\")\n",
    "    lines = [l for l in lines if len(l) > 0]\n",
    "    lines = [line for line in lines if line[0] != \">\"]\n",
    "    lines = [line for line in lines if line[:3] != \"Re:\"]\n",
    "    lines = [line for line in lines if line[:7] != \"Subject\"]\n",
    "    lines = [line for line in lines if line[:5] != \"From:\"]\n",
    "    lines = [line for line in lines if line[:5] != \"Date:\"]\n",
    "    lines = [line for line in lines if \"BEGIN PGP SIGNED MESSAGE\" not in line]\n",
    "    lines = [line for line in lines if line[:5] != \"Hash:\"]\n",
    "    lines = [line for line in lines if line[:10] != \"Version: G\"]\n",
    "    lines = [line for line in lines if \"wrote:\" not in line]\n",
    "    lines = [line for line in lines if \"wrote :\" not in line]\n",
    "    lines = [line for line in lines if \"writes:\" not in line]\n",
    "    lines = [line for line in lines if line[:7] != \"Am Mit,\"]\n",
    "    lines = [line for line in lines if line[:7] != \"Am Don,\"]\n",
    "    lines = [line for line in lines if line[:7] != \"Am Mon,\"]\n",
    "    lines = [line for line in lines if line[:7] != \"Quoting\"]\n",
    "    lines = [line for line in lines if line[:10] != \"Em Quinta,\"]\n",
    "    lines = [line for line in lines if \"said:\" not in line]\n",
    "    lines = [line for line in lines if re.match(\".*n (Sun|Mon|Tue|Wed|Thu|Fri|Sat), .. (Jan|Feb|Mar|Apr|May|Jun|Jul|Aug|Sep|Sept|Oct|Nov|Dec) 20..*\", line) == None]\n",
    "    lines = [line for line in lines if re.match(\".*n (Sunday|Monday|Tuesday|Wednesday|Thursday|Friday|Saturday) .. (January|February|March|April|May|June|July|August|September|October|November|December) 20..*\", line) == None]\n",
    "    lines = [line for line in lines if re.match(\".*n (Sun|Mon|Tue|Wed|Thu|Fri|Sat), (Jan|Feb|Mar|Apr|May|Jun|Jul|Aug|Sep|Sept|Oct|Nov|Dec) .., 20..*\", line) == None]\n",
    "    lines = [line for line in lines if re.match(\".*n (Sun|Mon|Tue|Wed|Thu|Fri|Sat), 20[\\d]{2}-[\\d]{2}-[\\d]{2} at.*\", line) == None]\n",
    "    lines = [line for line in lines if line[-6:] != \"said: \"]\n",
    "    lines = [line for line in lines if line[-8:] != \"babbled:\"]\n",
    "    lines = [line for line in lines if line[-7:] != \"wrot=e:\"]\n",
    "    lines = [line for line in lines if line[-8:] != \"A9crit :\"]\n",
    "    lines = [line for line in lines if line[0] != \"|\"]\n",
    "    return \"\\n\".join(lines)"
   ]
  },
  {
   "cell_type": "code",
   "execution_count": 15,
   "metadata": {},
   "outputs": [],
   "source": [
    "#build 2d list of email data with thread text and dates removed\n",
    "def build_list(mbox):\n",
    "    chart = [] \n",
    "    for msg in mbox: \n",
    "        clean_body = strip_thread(get_text(msg))\n",
    "        entry = [clean_body, msg[\"Date\"][:-9], msg[\"From\"], msg[\"Subject\"]]\n",
    "        chart.append(entry)\n",
    "    return chart\n",
    "    "
   ]
  },
  {
   "cell_type": "code",
   "execution_count": 16,
   "metadata": {},
   "outputs": [],
   "source": [
    "#format for CSV, clean special characters, and remove extranous emails \n",
    "def pandas_clean(chart):\n",
    "    emails = pd.DataFrame(chart, columns = [\"Body\", 'Date', \"From\", \"Subject\"]) \n",
    "    emails['Body'].replace(to_replace=[r\"\\n\", \"\\n\",], value= \" \", regex=True, inplace=True)\n",
    "    emails['Body'].replace(to_replace=[r\"\\'\", \"\\'\",\">\",'<',\"= \", \"-\", \"http\\S+\" ], value=\"\", regex=True, inplace=True)\n",
    "    emails['Body'].replace(to_replace=[ r\"\\\\\\s+\", \"\\\\\\s+\" , \"=\"], value= \"\", regex=True, inplace=True)\n",
    "    emails['Body'].replace(to_replace= [ \"   \", \"  \"], value= \" \", regex=True, inplace=True)\n",
    "    emails['Body'].replace(to_replace= [\"_\",\"3D\"], value= \"\", regex=True, inplace=True)\n",
    "    emails['Body'].replace(to_replace= [ \"   \", \"  \"], value= \" \", regex=True, inplace=True)\n",
    "    emails['Body'].replace(to_replace= [ \"   \", \"  \"], value= \" \", regex=True, inplace=True)\n",
    "    \n",
    "    emails.drop(emails.index[emails['Body'] == ''], inplace = True)\n",
    "    emails.drop(emails.index[emails['Body'] == ' '], inplace = True)\n",
    "    emails.dropna(subset=['Body'], inplace=True)\n",
    "    emails['location'] = emails['Body'].str.find('Missing expected images')\n",
    "    \n",
    "    emails.drop(emails.index[emails['location'] == 0], inplace = True)\n",
    "    emails.drop('location' ,axis=1, inplace=True )\n",
    "    emails['location'] = emails['Body'].str.find('OLD: Fedora')\n",
    "    emails.drop(emails.index[emails['location'] == 0], inplace = True)\n",
    "    emails.drop('location' ,axis=1, inplace=True )\n",
    "    \n",
    "    emails['datetime'] = pd.to_datetime(emails['Date'], format='%a, %d %b %Y %H:%M')\n",
    "    emails.sort_values(by= 'datetime', inplace = True)\n",
    "    \n",
    "    emails = emails.reset_index()\n",
    "    emails.drop('index',axis=1, inplace=True )\n",
    "    return emails\n",
    "    "
   ]
  },
  {
   "cell_type": "code",
   "execution_count": 17,
   "metadata": {},
   "outputs": [],
   "source": [
    "#preforming function on mbox \n",
    "\n",
    "mbox_info = build_list(msgs)\n",
    "data = pandas_clean(mbox_info)\n",
    "\n",
    "#updated this to save to bucket with naming conventions depending on the mbox that are retrieved\n",
    "#updated_email.to_csv('/opt/app-root/src/data/user_clean2.csv')"
   ]
  },
  {
   "cell_type": "code",
   "execution_count": null,
   "metadata": {},
   "outputs": [],
   "source": []
  },
  {
   "cell_type": "code",
   "execution_count": null,
   "metadata": {},
   "outputs": [],
   "source": []
  }
 ],
 "metadata": {
  "kernelspec": {
   "display_name": "Python 3",
   "language": "python",
   "name": "python3"
  },
  "language_info": {
   "codemirror_mode": {
    "name": "ipython",
    "version": 3
   },
   "file_extension": ".py",
   "mimetype": "text/x-python",
   "name": "python",
   "nbconvert_exporter": "python",
   "pygments_lexer": "ipython3",
   "version": "3.6.3"
  }
 },
 "nbformat": 4,
 "nbformat_minor": 2
}
